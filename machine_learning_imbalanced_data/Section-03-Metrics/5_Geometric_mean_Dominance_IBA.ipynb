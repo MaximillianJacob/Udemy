{
 "cells": [
  {
   "cell_type": "code",
   "execution_count": 1,
   "metadata": {},
   "outputs": [],
   "source": [
    "import numpy as np\n",
    "import pandas as pd\n",
    "import matplotlib.pyplot as plt\n",
    "import seaborn as sns"
   ]
  },
  {
   "cell_type": "code",
   "execution_count": 3,
   "metadata": {},
   "outputs": [],
   "source": [
    "df = pd.read_csv('../kdd2004.csv')"
   ]
  },
  {
   "cell_type": "code",
   "execution_count": 4,
   "metadata": {},
   "outputs": [
    {
     "data": {
      "text/plain": [
       "Index(['0', '1', '2', '3', '4', '5', '6', '7', '8', '9', '10', '11', '12',\n",
       "       '13', '14', '15', '16', '17', '18', '19', '20', '21', '22', '23', '24',\n",
       "       '25', '26', '27', '28', '29', '30', '31', '32', '33', '34', '35', '36',\n",
       "       '37', '38', '39', '40', '41', '42', '43', '44', '45', '46', '47', '48',\n",
       "       '49', '50', '51', '52', '53', '54', '55', '56', '57', '58', '59', '60',\n",
       "       '61', '62', '63', '64', '65', '66', '67', '68', '69', '70', '71', '72',\n",
       "       '73', 'target'],\n",
       "      dtype='object')"
      ]
     },
     "execution_count": 4,
     "metadata": {},
     "output_type": "execute_result"
    }
   ],
   "source": [
    "df.columns"
   ]
  },
  {
   "cell_type": "code",
   "execution_count": 5,
   "metadata": {},
   "outputs": [
    {
     "data": {
      "text/plain": [
       "target\n",
       "-1    0.991108\n",
       " 1    0.008892\n",
       "Name: proportion, dtype: float64"
      ]
     },
     "execution_count": 5,
     "metadata": {},
     "output_type": "execute_result"
    }
   ],
   "source": [
    "df.target.value_counts(normalize=True)"
   ]
  },
  {
   "cell_type": "code",
   "execution_count": 6,
   "metadata": {},
   "outputs": [
    {
     "data": {
      "text/plain": [
       "array([0, 1])"
      ]
     },
     "execution_count": 6,
     "metadata": {},
     "output_type": "execute_result"
    }
   ],
   "source": [
    "df.target = df.target.map({-1:0, 1:1})\n",
    "df.target.unique()"
   ]
  },
  {
   "cell_type": "code",
   "execution_count": 7,
   "metadata": {},
   "outputs": [],
   "source": [
    "from sklearn.model_selection import train_test_split, GridSearchCV"
   ]
  },
  {
   "cell_type": "code",
   "execution_count": 10,
   "metadata": {},
   "outputs": [
    {
     "data": {
      "text/plain": [
       "Index(['0', '1', '2', '3', '4', '5', '6', '7', '8', '9', '10', '11', '12',\n",
       "       '13', '14', '15', '16', '17', '18', '19', '20', '21', '22', '23', '24',\n",
       "       '25', '26', '27', '28', '29', '30', '31', '32', '33', '34', '35', '36',\n",
       "       '37', '38', '39', '40', '41', '42', '43', '44', '45', '46', '47', '48',\n",
       "       '49', '50', '51', '52', '53', '54', '55', '56', '57', '58', '59', '60',\n",
       "       '61', '62', '63', '64', '65', '66', '67', '68', '69', '70', '71', '72',\n",
       "       '73'],\n",
       "      dtype='object')"
      ]
     },
     "execution_count": 10,
     "metadata": {},
     "output_type": "execute_result"
    }
   ],
   "source": [
    "X = df.drop(columns='target', axis=1)\n",
    "X.columns"
   ]
  },
  {
   "cell_type": "code",
   "execution_count": 11,
   "metadata": {},
   "outputs": [
    {
     "data": {
      "text/plain": [
       "array([0, 1])"
      ]
     },
     "execution_count": 11,
     "metadata": {},
     "output_type": "execute_result"
    }
   ],
   "source": [
    "y = df.target\n",
    "y.unique()"
   ]
  },
  {
   "cell_type": "code",
   "execution_count": 12,
   "metadata": {},
   "outputs": [],
   "source": [
    "X_train, X_test, y_train, y_test = train_test_split(X, y, test_size=0.3, random_state=0)"
   ]
  },
  {
   "cell_type": "code",
   "execution_count": 13,
   "metadata": {},
   "outputs": [
    {
     "data": {
      "text/plain": [
       "((102025, 74), (102025,), (43726, 74), (43726,))"
      ]
     },
     "execution_count": 13,
     "metadata": {},
     "output_type": "execute_result"
    }
   ],
   "source": [
    "X_train.shape, y_train.shape, X_test.shape, y_test.shape"
   ]
  },
  {
   "cell_type": "code",
   "execution_count": 14,
   "metadata": {},
   "outputs": [],
   "source": [
    "from sklearn.linear_model import LogisticRegression"
   ]
  },
  {
   "cell_type": "code",
   "execution_count": 15,
   "metadata": {},
   "outputs": [
    {
     "name": "stderr",
     "output_type": "stream",
     "text": [
      "/home/max/Udemy/Udemy/machine_learning_imbalanced_data/.venv/lib/python3.10/site-packages/sklearn/linear_model/_logistic.py:465: ConvergenceWarning: lbfgs failed to converge (status=1):\n",
      "STOP: TOTAL NO. OF ITERATIONS REACHED LIMIT.\n",
      "\n",
      "Increase the number of iterations (max_iter) or scale the data as shown in:\n",
      "    https://scikit-learn.org/stable/modules/preprocessing.html\n",
      "Please also refer to the documentation for alternative solver options:\n",
      "    https://scikit-learn.org/stable/modules/linear_model.html#logistic-regression\n",
      "  n_iter_i = _check_optimize_result(\n"
     ]
    }
   ],
   "source": [
    "lr = LogisticRegression(max_iter=1000, random_state=0)\n",
    "lr.fit(X_train, y_train)\n",
    "y_train_lr = lr.predict_proba(X_train)[:,1]\n",
    "y_test_lr = lr.predict_proba(X_test)[:,1]"
   ]
  },
  {
   "cell_type": "code",
   "execution_count": 16,
   "metadata": {},
   "outputs": [],
   "source": [
    "from sklearn.ensemble import RandomForestClassifier"
   ]
  },
  {
   "cell_type": "code",
   "execution_count": 17,
   "metadata": {},
   "outputs": [],
   "source": [
    "rf = RandomForestClassifier(n_estimators=100, max_depth=2, criterion='entropy', n_jobs=-1, random_state=0)\n",
    "rf.fit(X_train, y_train)\n",
    "y_train_rf = rf.predict_proba(X_train)[:,1]\n",
    "y_test_rf = rf.predict_proba(X_test)[:,1]"
   ]
  },
  {
   "cell_type": "markdown",
   "metadata": {},
   "source": [
    "# Recall"
   ]
  },
  {
   "cell_type": "code",
   "execution_count": 18,
   "metadata": {},
   "outputs": [],
   "source": [
    "from sklearn.metrics import recall_score"
   ]
  },
  {
   "cell_type": "code",
   "execution_count": 19,
   "metadata": {},
   "outputs": [
    {
     "name": "stdout",
     "output_type": "stream",
     "text": [
      "\u001b[0;31mSignature:\u001b[0m\n",
      "\u001b[0mrecall_score\u001b[0m\u001b[0;34m(\u001b[0m\u001b[0;34m\u001b[0m\n",
      "\u001b[0;34m\u001b[0m    \u001b[0my_true\u001b[0m\u001b[0;34m,\u001b[0m\u001b[0;34m\u001b[0m\n",
      "\u001b[0;34m\u001b[0m    \u001b[0my_pred\u001b[0m\u001b[0;34m,\u001b[0m\u001b[0;34m\u001b[0m\n",
      "\u001b[0;34m\u001b[0m    \u001b[0;34m*\u001b[0m\u001b[0;34m,\u001b[0m\u001b[0;34m\u001b[0m\n",
      "\u001b[0;34m\u001b[0m    \u001b[0mlabels\u001b[0m\u001b[0;34m=\u001b[0m\u001b[0;32mNone\u001b[0m\u001b[0;34m,\u001b[0m\u001b[0;34m\u001b[0m\n",
      "\u001b[0;34m\u001b[0m    \u001b[0mpos_label\u001b[0m\u001b[0;34m=\u001b[0m\u001b[0;36m1\u001b[0m\u001b[0;34m,\u001b[0m\u001b[0;34m\u001b[0m\n",
      "\u001b[0;34m\u001b[0m    \u001b[0maverage\u001b[0m\u001b[0;34m=\u001b[0m\u001b[0;34m'binary'\u001b[0m\u001b[0;34m,\u001b[0m\u001b[0;34m\u001b[0m\n",
      "\u001b[0;34m\u001b[0m    \u001b[0msample_weight\u001b[0m\u001b[0;34m=\u001b[0m\u001b[0;32mNone\u001b[0m\u001b[0;34m,\u001b[0m\u001b[0;34m\u001b[0m\n",
      "\u001b[0;34m\u001b[0m    \u001b[0mzero_division\u001b[0m\u001b[0;34m=\u001b[0m\u001b[0;34m'warn'\u001b[0m\u001b[0;34m,\u001b[0m\u001b[0;34m\u001b[0m\n",
      "\u001b[0;34m\u001b[0m\u001b[0;34m)\u001b[0m\u001b[0;34m\u001b[0m\u001b[0;34m\u001b[0m\u001b[0m\n",
      "\u001b[0;31mDocstring:\u001b[0m\n",
      "Compute the recall.\n",
      "\n",
      "The recall is the ratio ``tp / (tp + fn)`` where ``tp`` is the number of\n",
      "true positives and ``fn`` the number of false negatives. The recall is\n",
      "intuitively the ability of the classifier to find all the positive samples.\n",
      "\n",
      "The best value is 1 and the worst value is 0.\n",
      "\n",
      "Support beyond term:`binary` targets is achieved by treating :term:`multiclass`\n",
      "and :term:`multilabel` data as a collection of binary problems, one for each\n",
      "label. For the :term:`binary` case, setting `average='binary'` will return\n",
      "recall for `pos_label`. If `average` is not `'binary'`, `pos_label` is ignored\n",
      "and recall for both classes are computed then averaged or both returned (when\n",
      "`average=None`). Similarly, for :term:`multiclass` and :term:`multilabel` targets,\n",
      "recall for all `labels` are either returned or averaged depending on the `average`\n",
      "parameter. Use `labels` specify the set of labels to calculate recall for.\n",
      "\n",
      "Read more in the :ref:`User Guide <precision_recall_f_measure_metrics>`.\n",
      "\n",
      "Parameters\n",
      "----------\n",
      "y_true : 1d array-like, or label indicator array / sparse matrix\n",
      "    Ground truth (correct) target values.\n",
      "\n",
      "y_pred : 1d array-like, or label indicator array / sparse matrix\n",
      "    Estimated targets as returned by a classifier.\n",
      "\n",
      "labels : array-like, default=None\n",
      "    The set of labels to include when `average != 'binary'`, and their\n",
      "    order if `average is None`. Labels present in the data can be\n",
      "    excluded, for example in multiclass classification to exclude a \"negative\n",
      "    class\". Labels not present in the data can be included and will be\n",
      "    \"assigned\" 0 samples. For multilabel targets, labels are column indices.\n",
      "    By default, all labels in `y_true` and `y_pred` are used in sorted order.\n",
      "\n",
      "    .. versionchanged:: 0.17\n",
      "       Parameter `labels` improved for multiclass problem.\n",
      "\n",
      "pos_label : int, float, bool or str, default=1\n",
      "    The class to report if `average='binary'` and the data is binary,\n",
      "    otherwise this parameter is ignored.\n",
      "    For multiclass or multilabel targets, set `labels=[pos_label]` and\n",
      "    `average != 'binary'` to report metrics for one label only.\n",
      "\n",
      "average : {'micro', 'macro', 'samples', 'weighted', 'binary'} or None,             default='binary'\n",
      "    This parameter is required for multiclass/multilabel targets.\n",
      "    If ``None``, the metrics for each class are returned. Otherwise, this\n",
      "    determines the type of averaging performed on the data:\n",
      "\n",
      "    ``'binary'``:\n",
      "        Only report results for the class specified by ``pos_label``.\n",
      "        This is applicable only if targets (``y_{true,pred}``) are binary.\n",
      "    ``'micro'``:\n",
      "        Calculate metrics globally by counting the total true positives,\n",
      "        false negatives and false positives.\n",
      "    ``'macro'``:\n",
      "        Calculate metrics for each label, and find their unweighted\n",
      "        mean.  This does not take label imbalance into account.\n",
      "    ``'weighted'``:\n",
      "        Calculate metrics for each label, and find their average weighted\n",
      "        by support (the number of true instances for each label). This\n",
      "        alters 'macro' to account for label imbalance; it can result in an\n",
      "        F-score that is not between precision and recall. Weighted recall\n",
      "        is equal to accuracy.\n",
      "    ``'samples'``:\n",
      "        Calculate metrics for each instance, and find their average (only\n",
      "        meaningful for multilabel classification where this differs from\n",
      "        :func:`accuracy_score`).\n",
      "\n",
      "sample_weight : array-like of shape (n_samples,), default=None\n",
      "    Sample weights.\n",
      "\n",
      "zero_division : {\"warn\", 0.0, 1.0, np.nan}, default=\"warn\"\n",
      "    Sets the value to return when there is a zero division.\n",
      "\n",
      "    Notes:\n",
      "\n",
      "    - If set to \"warn\", this acts like 0, but a warning is also raised.\n",
      "    - If set to `np.nan`, such values will be excluded from the average.\n",
      "\n",
      "    .. versionadded:: 1.3\n",
      "       `np.nan` option was added.\n",
      "\n",
      "Returns\n",
      "-------\n",
      "recall : float (if average is not None) or array of float of shape              (n_unique_labels,)\n",
      "    Recall of the positive class in binary classification or weighted\n",
      "    average of the recall of each class for the multiclass task.\n",
      "\n",
      "See Also\n",
      "--------\n",
      "precision_recall_fscore_support : Compute precision, recall, F-measure and\n",
      "    support for each class.\n",
      "precision_score : Compute the ratio ``tp / (tp + fp)`` where ``tp`` is the\n",
      "    number of true positives and ``fp`` the number of false positives.\n",
      "balanced_accuracy_score : Compute balanced accuracy to deal with imbalanced\n",
      "    datasets.\n",
      "multilabel_confusion_matrix : Compute a confusion matrix for each class or\n",
      "    sample.\n",
      "PrecisionRecallDisplay.from_estimator : Plot precision-recall curve given\n",
      "    an estimator and some data.\n",
      "PrecisionRecallDisplay.from_predictions : Plot precision-recall curve given\n",
      "    binary class predictions.\n",
      "\n",
      "Notes\n",
      "-----\n",
      "When ``true positive + false negative == 0``, recall returns 0 and raises\n",
      "``UndefinedMetricWarning``. This behavior can be modified with\n",
      "``zero_division``.\n",
      "\n",
      "Examples\n",
      "--------\n",
      ">>> import numpy as np\n",
      ">>> from sklearn.metrics import recall_score\n",
      ">>> y_true = [0, 1, 2, 0, 1, 2]\n",
      ">>> y_pred = [0, 2, 1, 0, 0, 1]\n",
      ">>> recall_score(y_true, y_pred, average='macro')\n",
      "0.33...\n",
      ">>> recall_score(y_true, y_pred, average='micro')\n",
      "0.33...\n",
      ">>> recall_score(y_true, y_pred, average='weighted')\n",
      "0.33...\n",
      ">>> recall_score(y_true, y_pred, average=None)\n",
      "array([1., 0., 0.])\n",
      ">>> y_true = [0, 0, 0, 0, 0, 0]\n",
      ">>> recall_score(y_true, y_pred, average=None)\n",
      "array([0.5, 0. , 0. ])\n",
      ">>> recall_score(y_true, y_pred, average=None, zero_division=1)\n",
      "array([0.5, 1. , 1. ])\n",
      ">>> recall_score(y_true, y_pred, average=None, zero_division=np.nan)\n",
      "array([0.5, nan, nan])\n",
      "\n",
      ">>> # multilabel classification\n",
      ">>> y_true = [[0, 0, 0], [1, 1, 1], [0, 1, 1]]\n",
      ">>> y_pred = [[0, 0, 0], [1, 1, 1], [1, 1, 0]]\n",
      ">>> recall_score(y_true, y_pred, average=None)\n",
      "array([1. , 1. , 0.5])\n",
      "\u001b[0;31mFile:\u001b[0m      ~/Udemy/Udemy/machine_learning_imbalanced_data/.venv/lib/python3.10/site-packages/sklearn/metrics/_classification.py\n",
      "\u001b[0;31mType:\u001b[0m      function"
     ]
    }
   ],
   "source": [
    "?recall_score"
   ]
  },
  {
   "cell_type": "code",
   "execution_count": 20,
   "metadata": {},
   "outputs": [
    {
     "data": {
      "text/plain": [
       "0    0.0\n",
       "1    0.0\n",
       "2    0.0\n",
       "3    0.0\n",
       "4    0.0\n",
       "dtype: float64"
      ]
     },
     "execution_count": 20,
     "metadata": {},
     "output_type": "execute_result"
    }
   ],
   "source": [
    "y_test_base = pd.Series(np.zeros(len(y_test)))\n",
    "y_test_base.head()"
   ]
  },
  {
   "cell_type": "code",
   "execution_count": 21,
   "metadata": {},
   "outputs": [
    {
     "name": "stdout",
     "output_type": "stream",
     "text": [
      "\n",
      "Test recall baseline: 0.0\n",
      "Test recall rf: 0.5753086419753086\n",
      "Test recall lr: 0.7111111111111111\n",
      "      \n"
     ]
    }
   ],
   "source": [
    "print(f\"\"\"\n",
    "Test recall baseline: {recall_score(y_test, y_test_base, pos_label=1)}\n",
    "Test recall rf: {recall_score(y_test, rf.predict(X_test), pos_label=1)}\n",
    "Test recall lr: {recall_score(y_test, lr.predict(X_test), pos_label=1)}\n",
    "      \"\"\")"
   ]
  },
  {
   "cell_type": "markdown",
   "metadata": {},
   "source": [
    "# True Negative Rate"
   ]
  },
  {
   "cell_type": "code",
   "execution_count": 22,
   "metadata": {},
   "outputs": [
    {
     "name": "stdout",
     "output_type": "stream",
     "text": [
      "\n",
      "Test TNR baseline: 1.0\n",
      "Test TNR rf: 0.9999769165070058\n",
      "Test TNR lr: 0.9996537476050876\n",
      "      \n"
     ]
    }
   ],
   "source": [
    "print(f\"\"\"\n",
    "Test TNR baseline: {recall_score(y_test, y_test_base, pos_label=0)}\n",
    "Test TNR rf: {recall_score(y_test, rf.predict(X_test), pos_label=0)}\n",
    "Test TNR lr: {recall_score(y_test, lr.predict(X_test), pos_label=0)}\n",
    "      \"\"\")"
   ]
  },
  {
   "cell_type": "markdown",
   "metadata": {},
   "source": [
    "# Geometric Mean"
   ]
  },
  {
   "cell_type": "code",
   "execution_count": 23,
   "metadata": {},
   "outputs": [],
   "source": [
    "import sklearn.metrics"
   ]
  },
  {
   "cell_type": "code",
   "execution_count": 24,
   "metadata": {},
   "outputs": [
    {
     "data": {
      "text/plain": [
       "['ConfusionMatrixDisplay',\n",
       " 'DetCurveDisplay',\n",
       " 'DistanceMetric',\n",
       " 'PrecisionRecallDisplay',\n",
       " 'PredictionErrorDisplay',\n",
       " 'RocCurveDisplay',\n",
       " '__all__',\n",
       " '__builtins__',\n",
       " '__cached__',\n",
       " '__doc__',\n",
       " '__file__',\n",
       " '__loader__',\n",
       " '__name__',\n",
       " '__package__',\n",
       " '__path__',\n",
       " '__spec__',\n",
       " '_base',\n",
       " '_classification',\n",
       " '_dist_metrics',\n",
       " '_pairwise_distances_reduction',\n",
       " '_pairwise_fast',\n",
       " '_plot',\n",
       " '_ranking',\n",
       " '_regression',\n",
       " '_scorer',\n",
       " 'accuracy_score',\n",
       " 'adjusted_mutual_info_score',\n",
       " 'adjusted_rand_score',\n",
       " 'auc',\n",
       " 'average_precision_score',\n",
       " 'balanced_accuracy_score',\n",
       " 'brier_score_loss',\n",
       " 'calinski_harabasz_score',\n",
       " 'check_scoring',\n",
       " 'class_likelihood_ratios',\n",
       " 'classification_report',\n",
       " 'cluster',\n",
       " 'cohen_kappa_score',\n",
       " 'completeness_score',\n",
       " 'confusion_matrix',\n",
       " 'consensus_score',\n",
       " 'coverage_error',\n",
       " 'd2_absolute_error_score',\n",
       " 'd2_log_loss_score',\n",
       " 'd2_pinball_score',\n",
       " 'd2_tweedie_score',\n",
       " 'davies_bouldin_score',\n",
       " 'dcg_score',\n",
       " 'det_curve',\n",
       " 'euclidean_distances',\n",
       " 'explained_variance_score',\n",
       " 'f1_score',\n",
       " 'fbeta_score',\n",
       " 'fowlkes_mallows_score',\n",
       " 'get_scorer',\n",
       " 'get_scorer_names',\n",
       " 'hamming_loss',\n",
       " 'hinge_loss',\n",
       " 'homogeneity_completeness_v_measure',\n",
       " 'homogeneity_score',\n",
       " 'jaccard_score',\n",
       " 'label_ranking_average_precision_score',\n",
       " 'label_ranking_loss',\n",
       " 'log_loss',\n",
       " 'make_scorer',\n",
       " 'matthews_corrcoef',\n",
       " 'max_error',\n",
       " 'mean_absolute_error',\n",
       " 'mean_absolute_percentage_error',\n",
       " 'mean_gamma_deviance',\n",
       " 'mean_pinball_loss',\n",
       " 'mean_poisson_deviance',\n",
       " 'mean_squared_error',\n",
       " 'mean_squared_log_error',\n",
       " 'mean_tweedie_deviance',\n",
       " 'median_absolute_error',\n",
       " 'multilabel_confusion_matrix',\n",
       " 'mutual_info_score',\n",
       " 'nan_euclidean_distances',\n",
       " 'ndcg_score',\n",
       " 'normalized_mutual_info_score',\n",
       " 'pair_confusion_matrix',\n",
       " 'pairwise',\n",
       " 'pairwise_distances',\n",
       " 'pairwise_distances_argmin',\n",
       " 'pairwise_distances_argmin_min',\n",
       " 'pairwise_distances_chunked',\n",
       " 'pairwise_kernels',\n",
       " 'precision_recall_curve',\n",
       " 'precision_recall_fscore_support',\n",
       " 'precision_score',\n",
       " 'r2_score',\n",
       " 'rand_score',\n",
       " 'recall_score',\n",
       " 'roc_auc_score',\n",
       " 'roc_curve',\n",
       " 'root_mean_squared_error',\n",
       " 'root_mean_squared_log_error',\n",
       " 'silhouette_samples',\n",
       " 'silhouette_score',\n",
       " 'top_k_accuracy_score',\n",
       " 'v_measure_score',\n",
       " 'zero_one_loss']"
      ]
     },
     "execution_count": 24,
     "metadata": {},
     "output_type": "execute_result"
    }
   ],
   "source": [
    "dir(sklearn.metrics)"
   ]
  },
  {
   "cell_type": "code",
   "execution_count": 25,
   "metadata": {},
   "outputs": [],
   "source": [
    "import imblearn.metrics"
   ]
  },
  {
   "cell_type": "code",
   "execution_count": 26,
   "metadata": {},
   "outputs": [
    {
     "data": {
      "text/plain": [
       "['__all__',\n",
       " '__builtins__',\n",
       " '__cached__',\n",
       " '__doc__',\n",
       " '__file__',\n",
       " '__loader__',\n",
       " '__name__',\n",
       " '__package__',\n",
       " '__path__',\n",
       " '__spec__',\n",
       " '_classification',\n",
       " 'classification_report_imbalanced',\n",
       " 'geometric_mean_score',\n",
       " 'macro_averaged_mean_absolute_error',\n",
       " 'make_index_balanced_accuracy',\n",
       " 'pairwise',\n",
       " 'sensitivity_score',\n",
       " 'sensitivity_specificity_support',\n",
       " 'specificity_score']"
      ]
     },
     "execution_count": 26,
     "metadata": {},
     "output_type": "execute_result"
    }
   ],
   "source": [
    "dir(imblearn.metrics)"
   ]
  },
  {
   "cell_type": "code",
   "execution_count": 27,
   "metadata": {},
   "outputs": [],
   "source": [
    "from imblearn.metrics import geometric_mean_score"
   ]
  },
  {
   "cell_type": "code",
   "execution_count": 28,
   "metadata": {},
   "outputs": [
    {
     "data": {
      "text/plain": [
       "np.float64(0.0)"
      ]
     },
     "execution_count": 28,
     "metadata": {},
     "output_type": "execute_result"
    }
   ],
   "source": [
    "geometric_mean_score(y_test, y_test_base)"
   ]
  },
  {
   "cell_type": "code",
   "execution_count": 29,
   "metadata": {},
   "outputs": [
    {
     "name": "stdout",
     "output_type": "stream",
     "text": [
      "\n",
      "Test geometric mean baseline: 0.0\n",
      "Test geometric mean rf: 0.758482275232785\n",
      "Test geometric mean lr: 0.8431280372433597\n",
      "      \n"
     ]
    }
   ],
   "source": [
    "print(f\"\"\"\n",
    "Test geometric mean baseline: {geometric_mean_score(y_test, y_test_base)}\n",
    "Test geometric mean rf: {geometric_mean_score(y_test, rf.predict(X_test))}\n",
    "Test geometric mean lr: {geometric_mean_score(y_test, lr.predict(X_test))}\n",
    "      \"\"\")"
   ]
  },
  {
   "cell_type": "code",
   "execution_count": 30,
   "metadata": {},
   "outputs": [
    {
     "data": {
      "text/plain": [
       "['__all__',\n",
       " '__builtins__',\n",
       " '__cached__',\n",
       " '__doc__',\n",
       " '__file__',\n",
       " '__loader__',\n",
       " '__name__',\n",
       " '__package__',\n",
       " '__path__',\n",
       " '__spec__',\n",
       " '_classification',\n",
       " 'classification_report_imbalanced',\n",
       " 'geometric_mean_score',\n",
       " 'macro_averaged_mean_absolute_error',\n",
       " 'make_index_balanced_accuracy',\n",
       " 'pairwise',\n",
       " 'sensitivity_score',\n",
       " 'sensitivity_specificity_support',\n",
       " 'specificity_score']"
      ]
     },
     "execution_count": 30,
     "metadata": {},
     "output_type": "execute_result"
    }
   ],
   "source": [
    "dir(imblearn.metrics)"
   ]
  },
  {
   "cell_type": "code",
   "execution_count": 31,
   "metadata": {},
   "outputs": [
    {
     "data": {
      "text/plain": [
       "['ConfusionMatrixDisplay',\n",
       " 'DetCurveDisplay',\n",
       " 'DistanceMetric',\n",
       " 'PrecisionRecallDisplay',\n",
       " 'PredictionErrorDisplay',\n",
       " 'RocCurveDisplay',\n",
       " '__all__',\n",
       " '__builtins__',\n",
       " '__cached__',\n",
       " '__doc__',\n",
       " '__file__',\n",
       " '__loader__',\n",
       " '__name__',\n",
       " '__package__',\n",
       " '__path__',\n",
       " '__spec__',\n",
       " '_base',\n",
       " '_classification',\n",
       " '_dist_metrics',\n",
       " '_pairwise_distances_reduction',\n",
       " '_pairwise_fast',\n",
       " '_plot',\n",
       " '_ranking',\n",
       " '_regression',\n",
       " '_scorer',\n",
       " 'accuracy_score',\n",
       " 'adjusted_mutual_info_score',\n",
       " 'adjusted_rand_score',\n",
       " 'auc',\n",
       " 'average_precision_score',\n",
       " 'balanced_accuracy_score',\n",
       " 'brier_score_loss',\n",
       " 'calinski_harabasz_score',\n",
       " 'check_scoring',\n",
       " 'class_likelihood_ratios',\n",
       " 'classification_report',\n",
       " 'cluster',\n",
       " 'cohen_kappa_score',\n",
       " 'completeness_score',\n",
       " 'confusion_matrix',\n",
       " 'consensus_score',\n",
       " 'coverage_error',\n",
       " 'd2_absolute_error_score',\n",
       " 'd2_log_loss_score',\n",
       " 'd2_pinball_score',\n",
       " 'd2_tweedie_score',\n",
       " 'davies_bouldin_score',\n",
       " 'dcg_score',\n",
       " 'det_curve',\n",
       " 'euclidean_distances',\n",
       " 'explained_variance_score',\n",
       " 'f1_score',\n",
       " 'fbeta_score',\n",
       " 'fowlkes_mallows_score',\n",
       " 'get_scorer',\n",
       " 'get_scorer_names',\n",
       " 'hamming_loss',\n",
       " 'hinge_loss',\n",
       " 'homogeneity_completeness_v_measure',\n",
       " 'homogeneity_score',\n",
       " 'jaccard_score',\n",
       " 'label_ranking_average_precision_score',\n",
       " 'label_ranking_loss',\n",
       " 'log_loss',\n",
       " 'make_scorer',\n",
       " 'matthews_corrcoef',\n",
       " 'max_error',\n",
       " 'mean_absolute_error',\n",
       " 'mean_absolute_percentage_error',\n",
       " 'mean_gamma_deviance',\n",
       " 'mean_pinball_loss',\n",
       " 'mean_poisson_deviance',\n",
       " 'mean_squared_error',\n",
       " 'mean_squared_log_error',\n",
       " 'mean_tweedie_deviance',\n",
       " 'median_absolute_error',\n",
       " 'multilabel_confusion_matrix',\n",
       " 'mutual_info_score',\n",
       " 'nan_euclidean_distances',\n",
       " 'ndcg_score',\n",
       " 'normalized_mutual_info_score',\n",
       " 'pair_confusion_matrix',\n",
       " 'pairwise',\n",
       " 'pairwise_distances',\n",
       " 'pairwise_distances_argmin',\n",
       " 'pairwise_distances_argmin_min',\n",
       " 'pairwise_distances_chunked',\n",
       " 'pairwise_kernels',\n",
       " 'precision_recall_curve',\n",
       " 'precision_recall_fscore_support',\n",
       " 'precision_score',\n",
       " 'r2_score',\n",
       " 'rand_score',\n",
       " 'recall_score',\n",
       " 'roc_auc_score',\n",
       " 'roc_curve',\n",
       " 'root_mean_squared_error',\n",
       " 'root_mean_squared_log_error',\n",
       " 'silhouette_samples',\n",
       " 'silhouette_score',\n",
       " 'top_k_accuracy_score',\n",
       " 'v_measure_score',\n",
       " 'zero_one_loss']"
      ]
     },
     "execution_count": 31,
     "metadata": {},
     "output_type": "execute_result"
    }
   ],
   "source": [
    "dir(sklearn.metrics)"
   ]
  },
  {
   "cell_type": "markdown",
   "metadata": {},
   "source": [
    "# Dominance"
   ]
  },
  {
   "cell_type": "code",
   "execution_count": 32,
   "metadata": {},
   "outputs": [],
   "source": [
    "def dominance(y_true, y_pred):\n",
    "    tpr=recall_score(y_true, y_pred, pos_label=1)\n",
    "    tnr=recall_score(y_true, y_pred, pos_label=0)\n",
    "    return tpr - tnr"
   ]
  },
  {
   "cell_type": "code",
   "execution_count": 34,
   "metadata": {},
   "outputs": [
    {
     "name": "stdout",
     "output_type": "stream",
     "text": [
      "\n",
      "Test Dominance baseline: -1.0\n",
      "Test Dominance rf: -0.4246682745316972\n",
      "Test Dominance lr: -0.2885426364939765\n",
      "      \n"
     ]
    }
   ],
   "source": [
    "print(f\"\"\"\n",
    "Test Dominance baseline: {dominance(y_test, y_test_base)}\n",
    "Test Dominance rf: {dominance(y_test, rf.predict(X_test))}\n",
    "Test Dominance lr: {dominance(y_test, lr.predict(X_test))}\n",
    "      \"\"\")"
   ]
  },
  {
   "cell_type": "markdown",
   "metadata": {},
   "source": [
    "# Metrics vs threshold"
   ]
  },
  {
   "cell_type": "code",
   "execution_count": 38,
   "metadata": {},
   "outputs": [
    {
     "name": "stdout",
     "output_type": "stream",
     "text": [
      "\u001b[0;31mSignature:\u001b[0m\n",
      "\u001b[0mgeometric_mean_score\u001b[0m\u001b[0;34m(\u001b[0m\u001b[0;34m\u001b[0m\n",
      "\u001b[0;34m\u001b[0m    \u001b[0my_true\u001b[0m\u001b[0;34m,\u001b[0m\u001b[0;34m\u001b[0m\n",
      "\u001b[0;34m\u001b[0m    \u001b[0my_pred\u001b[0m\u001b[0;34m,\u001b[0m\u001b[0;34m\u001b[0m\n",
      "\u001b[0;34m\u001b[0m    \u001b[0;34m*\u001b[0m\u001b[0;34m,\u001b[0m\u001b[0;34m\u001b[0m\n",
      "\u001b[0;34m\u001b[0m    \u001b[0mlabels\u001b[0m\u001b[0;34m=\u001b[0m\u001b[0;32mNone\u001b[0m\u001b[0;34m,\u001b[0m\u001b[0;34m\u001b[0m\n",
      "\u001b[0;34m\u001b[0m    \u001b[0mpos_label\u001b[0m\u001b[0;34m=\u001b[0m\u001b[0;36m1\u001b[0m\u001b[0;34m,\u001b[0m\u001b[0;34m\u001b[0m\n",
      "\u001b[0;34m\u001b[0m    \u001b[0maverage\u001b[0m\u001b[0;34m=\u001b[0m\u001b[0;34m'multiclass'\u001b[0m\u001b[0;34m,\u001b[0m\u001b[0;34m\u001b[0m\n",
      "\u001b[0;34m\u001b[0m    \u001b[0msample_weight\u001b[0m\u001b[0;34m=\u001b[0m\u001b[0;32mNone\u001b[0m\u001b[0;34m,\u001b[0m\u001b[0;34m\u001b[0m\n",
      "\u001b[0;34m\u001b[0m    \u001b[0mcorrection\u001b[0m\u001b[0;34m=\u001b[0m\u001b[0;36m0.0\u001b[0m\u001b[0;34m,\u001b[0m\u001b[0;34m\u001b[0m\n",
      "\u001b[0;34m\u001b[0m\u001b[0;34m)\u001b[0m\u001b[0;34m\u001b[0m\u001b[0;34m\u001b[0m\u001b[0m\n",
      "\u001b[0;31mDocstring:\u001b[0m\n",
      "Compute the geometric mean.\n",
      "\n",
      "The geometric mean (G-mean) is the root of the product of class-wise\n",
      "sensitivity. This measure tries to maximize the accuracy on each of the\n",
      "classes while keeping these accuracies balanced. For binary classification\n",
      "G-mean is the squared root of the product of the sensitivity\n",
      "and specificity. For multi-class problems it is a higher root of the\n",
      "product of sensitivity for each class.\n",
      "\n",
      "For compatibility with other imbalance performance measures, G-mean can be\n",
      "calculated for each class separately on a one-vs-rest basis when\n",
      "``average != 'multiclass'``.\n",
      "\n",
      "The best value is 1 and the worst value is 0. Traditionally if at least one\n",
      "class is unrecognized by the classifier, G-mean resolves to zero. To\n",
      "alleviate this property, for highly multi-class the sensitivity of\n",
      "unrecognized classes can be \"corrected\" to be a user specified value\n",
      "(instead of zero). This option works only if ``average == 'multiclass'``.\n",
      "\n",
      "Read more in the :ref:`User Guide <imbalanced_metrics>`.\n",
      "\n",
      "Parameters\n",
      "----------\n",
      "y_true : array-like of shape (n_samples,)\n",
      "    Ground truth (correct) target values.\n",
      "\n",
      "y_pred : array-like of shape (n_samples,)\n",
      "    Estimated targets as returned by a classifier.\n",
      "\n",
      "labels : array-like, default=None\n",
      "    The set of labels to include when ``average != 'binary'``, and their\n",
      "    order if ``average is None``. Labels present in the data can be\n",
      "    excluded, for example to calculate a multiclass average ignoring a\n",
      "    majority negative class, while labels not present in the data will\n",
      "    result in 0 components in a macro average.\n",
      "\n",
      "pos_label : str, int or None, default=1\n",
      "    The class to report if ``average='binary'`` and the data is binary.\n",
      "    If ``pos_label is None`` and in binary classification, this function\n",
      "    returns the average geometric mean if ``average`` is one of\n",
      "    ``'weighted'``.\n",
      "    If the data are multiclass, this will be ignored;\n",
      "    setting ``labels=[pos_label]`` and ``average != 'binary'`` will report\n",
      "    scores for that label only.\n",
      "\n",
      "average : str or None, default='multiclass'\n",
      "    If ``None``, the scores for each class are returned. Otherwise, this\n",
      "    determines the type of averaging performed on the data:\n",
      "\n",
      "    ``'binary'``:\n",
      "        Only report results for the class specified by ``pos_label``.\n",
      "        This is applicable only if targets (``y_{true,pred}``) are binary.\n",
      "    ``'micro'``:\n",
      "        Calculate metrics globally by counting the total true positives,\n",
      "        false negatives and false positives.\n",
      "    ``'macro'``:\n",
      "        Calculate metrics for each label, and find their unweighted\n",
      "        mean.  This does not take label imbalance into account.\n",
      "    ``'multiclass'``:\n",
      "        No average is taken.\n",
      "    ``'weighted'``:\n",
      "        Calculate metrics for each label, and find their average, weighted\n",
      "        by support (the number of true instances for each label). This\n",
      "        alters 'macro' to account for label imbalance; it can result in an\n",
      "        F-score that is not between precision and recall.\n",
      "    ``'samples'``:\n",
      "        Calculate metrics for each instance, and find their average (only\n",
      "        meaningful for multilabel classification where this differs from\n",
      "        :func:`accuracy_score`).\n",
      "\n",
      "sample_weight : array-like of shape (n_samples,), default=None\n",
      "    Sample weights.\n",
      "\n",
      "correction : float, default=0.0\n",
      "    Substitutes sensitivity of unrecognized classes from zero to a given\n",
      "    value.\n",
      "\n",
      "Returns\n",
      "-------\n",
      "geometric_mean : float\n",
      "    Returns the geometric mean.\n",
      "\n",
      "Notes\n",
      "-----\n",
      "See :ref:`sphx_glr_auto_examples_evaluation_plot_metrics.py`.\n",
      "\n",
      "References\n",
      "----------\n",
      ".. [1] Kubat, M. and Matwin, S. \"Addressing the curse of\n",
      "   imbalanced training sets: one-sided selection\" ICML (1997)\n",
      "\n",
      ".. [2] Barandela, R., Sánchez, J. S., Garcıa, V., & Rangel, E. \"Strategies\n",
      "   for learning in class imbalance problems\", Pattern Recognition,\n",
      "   36(3), (2003), pp 849-851.\n",
      "\n",
      "Examples\n",
      "--------\n",
      ">>> from imblearn.metrics import geometric_mean_score\n",
      ">>> y_true = [0, 1, 2, 0, 1, 2]\n",
      ">>> y_pred = [0, 2, 1, 0, 0, 1]\n",
      ">>> geometric_mean_score(y_true, y_pred)\n",
      "0.0\n",
      ">>> geometric_mean_score(y_true, y_pred, correction=0.001)\n",
      "0.010...\n",
      ">>> geometric_mean_score(y_true, y_pred, average='macro')\n",
      "0.471...\n",
      ">>> geometric_mean_score(y_true, y_pred, average='micro')\n",
      "0.471...\n",
      ">>> geometric_mean_score(y_true, y_pred, average='weighted')\n",
      "0.471...\n",
      ">>> geometric_mean_score(y_true, y_pred, average=None)\n",
      "array([0.866...,  0.       ,  0.       ])\n",
      "\u001b[0;31mFile:\u001b[0m      ~/Udemy/Udemy/machine_learning_imbalanced_data/.venv/lib/python3.10/site-packages/imblearn/metrics/_classification.py\n",
      "\u001b[0;31mType:\u001b[0m      function"
     ]
    }
   ],
   "source": [
    "?geometric_mean_score"
   ]
  },
  {
   "cell_type": "code",
   "execution_count": 39,
   "metadata": {},
   "outputs": [],
   "source": [
    "thresholds = np.linspace(0,1,100)\n",
    "\n",
    "recall_ls = []\n",
    "tnr_ls = []\n",
    "dominance_ls = []\n",
    "geometric_mean_ls = []\n",
    "\n",
    "probs_lr = lr.predict_proba(X_test)[:,1]\n",
    "\n",
    "#Calculating Geometric mean based on thresholds\n",
    "for threshold in thresholds:\n",
    "\n",
    "    condition = probs_lr >= threshold\n",
    "    y_test_predict_manual = np.where(condition, 1, 0)\n",
    "\n",
    "    #Obtain metrics\n",
    "    recall_ls.append(recall_score(y_test, y_test_predict_manual, pos_label=1))\n",
    "    tnr_ls.append(recall_score(y_test, y_test_predict_manual, pos_label=0))\n",
    "    dominance_ls.append(dominance(y_test, y_test_predict_manual))\n",
    "    geometric_mean_ls.append(geometric_mean_score(y_test, y_test_predict_manual))"
   ]
  },
  {
   "cell_type": "code",
   "execution_count": 40,
   "metadata": {},
   "outputs": [
    {
     "data": {
      "text/plain": [
       "[1.0,\n",
       " 0.9333333333333333,\n",
       " 0.9135802469135802,\n",
       " 0.8938271604938272,\n",
       " 0.8765432098765432]"
      ]
     },
     "execution_count": 40,
     "metadata": {},
     "output_type": "execute_result"
    }
   ],
   "source": [
    "recall_ls[:5]"
   ]
  },
  {
   "cell_type": "code",
   "execution_count": 41,
   "metadata": {},
   "outputs": [
    {
     "data": {
      "text/plain": [
       "[0.0, 0.9609196463608873]"
      ]
     },
     "execution_count": 41,
     "metadata": {},
     "output_type": "execute_result"
    }
   ],
   "source": [
    "tnr_ls[:2]"
   ]
  },
  {
   "cell_type": "code",
   "execution_count": 42,
   "metadata": {},
   "outputs": [
    {
     "data": {
      "text/plain": [
       "[1.0, -0.027586313027553988, -0.06629094719551243]"
      ]
     },
     "execution_count": 42,
     "metadata": {},
     "output_type": "execute_result"
    }
   ],
   "source": [
    "dominance_ls[:3]"
   ]
  },
  {
   "cell_type": "code",
   "execution_count": 43,
   "metadata": {},
   "outputs": [
    {
     "data": {
      "text/plain": [
       "[np.float64(0.0),\n",
       " np.float64(0.9470260485348304),\n",
       " np.float64(0.9461453204755016),\n",
       " np.float64(0.9391070863934604),\n",
       " np.float64(0.9315264674137222)]"
      ]
     },
     "execution_count": 43,
     "metadata": {},
     "output_type": "execute_result"
    }
   ],
   "source": [
    "geometric_mean_ls[:5]"
   ]
  },
  {
   "cell_type": "code",
   "execution_count": 47,
   "metadata": {},
   "outputs": [
    {
     "data": {
      "text/html": [
       "<div>\n",
       "<style scoped>\n",
       "    .dataframe tbody tr th:only-of-type {\n",
       "        vertical-align: middle;\n",
       "    }\n",
       "\n",
       "    .dataframe tbody tr th {\n",
       "        vertical-align: top;\n",
       "    }\n",
       "\n",
       "    .dataframe thead th {\n",
       "        text-align: right;\n",
       "    }\n",
       "</style>\n",
       "<table border=\"1\" class=\"dataframe\">\n",
       "  <thead>\n",
       "    <tr style=\"text-align: right;\">\n",
       "      <th></th>\n",
       "      <th>0</th>\n",
       "      <th>1</th>\n",
       "      <th>2</th>\n",
       "      <th>3</th>\n",
       "    </tr>\n",
       "  </thead>\n",
       "  <tbody>\n",
       "    <tr>\n",
       "      <th>0</th>\n",
       "      <td>1.000000</td>\n",
       "      <td>0.000000</td>\n",
       "      <td>1.000000</td>\n",
       "      <td>0.000000</td>\n",
       "    </tr>\n",
       "    <tr>\n",
       "      <th>1</th>\n",
       "      <td>0.933333</td>\n",
       "      <td>0.960920</td>\n",
       "      <td>-0.027586</td>\n",
       "      <td>0.947026</td>\n",
       "    </tr>\n",
       "    <tr>\n",
       "      <th>2</th>\n",
       "      <td>0.913580</td>\n",
       "      <td>0.979871</td>\n",
       "      <td>-0.066291</td>\n",
       "      <td>0.946145</td>\n",
       "    </tr>\n",
       "    <tr>\n",
       "      <th>3</th>\n",
       "      <td>0.893827</td>\n",
       "      <td>0.986681</td>\n",
       "      <td>-0.092854</td>\n",
       "      <td>0.939107</td>\n",
       "    </tr>\n",
       "    <tr>\n",
       "      <th>4</th>\n",
       "      <td>0.876543</td>\n",
       "      <td>0.989959</td>\n",
       "      <td>-0.113415</td>\n",
       "      <td>0.931526</td>\n",
       "    </tr>\n",
       "  </tbody>\n",
       "</table>\n",
       "</div>"
      ],
      "text/plain": [
       "          0         1         2         3\n",
       "0  1.000000  0.000000  1.000000  0.000000\n",
       "1  0.933333  0.960920 -0.027586  0.947026\n",
       "2  0.913580  0.979871 -0.066291  0.946145\n",
       "3  0.893827  0.986681 -0.092854  0.939107\n",
       "4  0.876543  0.989959 -0.113415  0.931526"
      ]
     },
     "execution_count": 47,
     "metadata": {},
     "output_type": "execute_result"
    }
   ],
   "source": [
    "metrics = pd.concat([pd.Series(recall_ls), pd.Series(tnr_ls), pd.Series(dominance_ls), pd.Series(geometric_mean_ls)], axis=1)\n",
    "metrics.head()"
   ]
  },
  {
   "cell_type": "code",
   "execution_count": 49,
   "metadata": {},
   "outputs": [],
   "source": [
    "metrics.columns = ['Recall', 'TNR', 'Dominance', 'Geometric Mean']"
   ]
  },
  {
   "cell_type": "code",
   "execution_count": 50,
   "metadata": {},
   "outputs": [
    {
     "data": {
      "text/html": [
       "<div>\n",
       "<style scoped>\n",
       "    .dataframe tbody tr th:only-of-type {\n",
       "        vertical-align: middle;\n",
       "    }\n",
       "\n",
       "    .dataframe tbody tr th {\n",
       "        vertical-align: top;\n",
       "    }\n",
       "\n",
       "    .dataframe thead th {\n",
       "        text-align: right;\n",
       "    }\n",
       "</style>\n",
       "<table border=\"1\" class=\"dataframe\">\n",
       "  <thead>\n",
       "    <tr style=\"text-align: right;\">\n",
       "      <th></th>\n",
       "      <th>Recall</th>\n",
       "      <th>TNR</th>\n",
       "      <th>Dominance</th>\n",
       "      <th>Geometric Mean</th>\n",
       "    </tr>\n",
       "  </thead>\n",
       "  <tbody>\n",
       "    <tr>\n",
       "      <th>0</th>\n",
       "      <td>1.000000</td>\n",
       "      <td>0.000000</td>\n",
       "      <td>1.000000</td>\n",
       "      <td>0.000000</td>\n",
       "    </tr>\n",
       "    <tr>\n",
       "      <th>1</th>\n",
       "      <td>0.933333</td>\n",
       "      <td>0.960920</td>\n",
       "      <td>-0.027586</td>\n",
       "      <td>0.947026</td>\n",
       "    </tr>\n",
       "    <tr>\n",
       "      <th>2</th>\n",
       "      <td>0.913580</td>\n",
       "      <td>0.979871</td>\n",
       "      <td>-0.066291</td>\n",
       "      <td>0.946145</td>\n",
       "    </tr>\n",
       "    <tr>\n",
       "      <th>3</th>\n",
       "      <td>0.893827</td>\n",
       "      <td>0.986681</td>\n",
       "      <td>-0.092854</td>\n",
       "      <td>0.939107</td>\n",
       "    </tr>\n",
       "    <tr>\n",
       "      <th>4</th>\n",
       "      <td>0.876543</td>\n",
       "      <td>0.989959</td>\n",
       "      <td>-0.113415</td>\n",
       "      <td>0.931526</td>\n",
       "    </tr>\n",
       "  </tbody>\n",
       "</table>\n",
       "</div>"
      ],
      "text/plain": [
       "     Recall       TNR  Dominance  Geometric Mean\n",
       "0  1.000000  0.000000   1.000000        0.000000\n",
       "1  0.933333  0.960920  -0.027586        0.947026\n",
       "2  0.913580  0.979871  -0.066291        0.946145\n",
       "3  0.893827  0.986681  -0.092854        0.939107\n",
       "4  0.876543  0.989959  -0.113415        0.931526"
      ]
     },
     "execution_count": 50,
     "metadata": {},
     "output_type": "execute_result"
    }
   ],
   "source": [
    "metrics.head()"
   ]
  },
  {
   "cell_type": "code",
   "execution_count": 52,
   "metadata": {},
   "outputs": [
    {
     "data": {
      "text/plain": [
       "(100, 100)"
      ]
     },
     "execution_count": 52,
     "metadata": {},
     "output_type": "execute_result"
    }
   ],
   "source": [
    "len(metrics), len(thresholds)"
   ]
  },
  {
   "cell_type": "code",
   "execution_count": 53,
   "metadata": {},
   "outputs": [],
   "source": [
    "metrics.index = thresholds"
   ]
  },
  {
   "cell_type": "code",
   "execution_count": 54,
   "metadata": {},
   "outputs": [
    {
     "data": {
      "text/html": [
       "<div>\n",
       "<style scoped>\n",
       "    .dataframe tbody tr th:only-of-type {\n",
       "        vertical-align: middle;\n",
       "    }\n",
       "\n",
       "    .dataframe tbody tr th {\n",
       "        vertical-align: top;\n",
       "    }\n",
       "\n",
       "    .dataframe thead th {\n",
       "        text-align: right;\n",
       "    }\n",
       "</style>\n",
       "<table border=\"1\" class=\"dataframe\">\n",
       "  <thead>\n",
       "    <tr style=\"text-align: right;\">\n",
       "      <th></th>\n",
       "      <th>Recall</th>\n",
       "      <th>TNR</th>\n",
       "      <th>Dominance</th>\n",
       "      <th>Geometric Mean</th>\n",
       "    </tr>\n",
       "  </thead>\n",
       "  <tbody>\n",
       "    <tr>\n",
       "      <th>0.000000</th>\n",
       "      <td>1.000000</td>\n",
       "      <td>0.000000</td>\n",
       "      <td>1.000000</td>\n",
       "      <td>0.000000</td>\n",
       "    </tr>\n",
       "    <tr>\n",
       "      <th>0.010101</th>\n",
       "      <td>0.933333</td>\n",
       "      <td>0.960920</td>\n",
       "      <td>-0.027586</td>\n",
       "      <td>0.947026</td>\n",
       "    </tr>\n",
       "    <tr>\n",
       "      <th>0.020202</th>\n",
       "      <td>0.913580</td>\n",
       "      <td>0.979871</td>\n",
       "      <td>-0.066291</td>\n",
       "      <td>0.946145</td>\n",
       "    </tr>\n",
       "    <tr>\n",
       "      <th>0.030303</th>\n",
       "      <td>0.893827</td>\n",
       "      <td>0.986681</td>\n",
       "      <td>-0.092854</td>\n",
       "      <td>0.939107</td>\n",
       "    </tr>\n",
       "    <tr>\n",
       "      <th>0.040404</th>\n",
       "      <td>0.876543</td>\n",
       "      <td>0.989959</td>\n",
       "      <td>-0.113415</td>\n",
       "      <td>0.931526</td>\n",
       "    </tr>\n",
       "  </tbody>\n",
       "</table>\n",
       "</div>"
      ],
      "text/plain": [
       "            Recall       TNR  Dominance  Geometric Mean\n",
       "0.000000  1.000000  0.000000   1.000000        0.000000\n",
       "0.010101  0.933333  0.960920  -0.027586        0.947026\n",
       "0.020202  0.913580  0.979871  -0.066291        0.946145\n",
       "0.030303  0.893827  0.986681  -0.092854        0.939107\n",
       "0.040404  0.876543  0.989959  -0.113415        0.931526"
      ]
     },
     "execution_count": 54,
     "metadata": {},
     "output_type": "execute_result"
    }
   ],
   "source": [
    "metrics.head()"
   ]
  },
  {
   "cell_type": "code",
   "execution_count": 55,
   "metadata": {},
   "outputs": [
    {
     "name": "stdout",
     "output_type": "stream",
     "text": [
      "\u001b[0;31mSignature:\u001b[0m      \u001b[0mmetrics\u001b[0m\u001b[0;34m.\u001b[0m\u001b[0mplot\u001b[0m\u001b[0;34m(\u001b[0m\u001b[0;34m*\u001b[0m\u001b[0margs\u001b[0m\u001b[0;34m,\u001b[0m \u001b[0;34m**\u001b[0m\u001b[0mkwargs\u001b[0m\u001b[0;34m)\u001b[0m\u001b[0;34m\u001b[0m\u001b[0;34m\u001b[0m\u001b[0m\n",
      "\u001b[0;31mType:\u001b[0m           PlotAccessor\n",
      "\u001b[0;31mString form:\u001b[0m    <pandas.plotting._core.PlotAccessor object at 0x7f5b286c1d20>\n",
      "\u001b[0;31mFile:\u001b[0m           ~/Udemy/Udemy/machine_learning_imbalanced_data/.venv/lib/python3.10/site-packages/pandas/plotting/_core.py\n",
      "\u001b[0;31mDocstring:\u001b[0m     \n",
      "Make plots of Series or DataFrame.\n",
      "\n",
      "Uses the backend specified by the\n",
      "option ``plotting.backend``. By default, matplotlib is used.\n",
      "\n",
      "Parameters\n",
      "----------\n",
      "data : Series or DataFrame\n",
      "    The object for which the method is called.\n",
      "x : label or position, default None\n",
      "    Only used if data is a DataFrame.\n",
      "y : label, position or list of label, positions, default None\n",
      "    Allows plotting of one column versus another. Only used if data is a\n",
      "    DataFrame.\n",
      "kind : str\n",
      "    The kind of plot to produce:\n",
      "\n",
      "    - 'line' : line plot (default)\n",
      "    - 'bar' : vertical bar plot\n",
      "    - 'barh' : horizontal bar plot\n",
      "    - 'hist' : histogram\n",
      "    - 'box' : boxplot\n",
      "    - 'kde' : Kernel Density Estimation plot\n",
      "    - 'density' : same as 'kde'\n",
      "    - 'area' : area plot\n",
      "    - 'pie' : pie plot\n",
      "    - 'scatter' : scatter plot (DataFrame only)\n",
      "    - 'hexbin' : hexbin plot (DataFrame only)\n",
      "ax : matplotlib axes object, default None\n",
      "    An axes of the current figure.\n",
      "subplots : bool or sequence of iterables, default False\n",
      "    Whether to group columns into subplots:\n",
      "\n",
      "    - ``False`` : No subplots will be used\n",
      "    - ``True`` : Make separate subplots for each column.\n",
      "    - sequence of iterables of column labels: Create a subplot for each\n",
      "      group of columns. For example `[('a', 'c'), ('b', 'd')]` will\n",
      "      create 2 subplots: one with columns 'a' and 'c', and one\n",
      "      with columns 'b' and 'd'. Remaining columns that aren't specified\n",
      "      will be plotted in additional subplots (one per column).\n",
      "\n",
      "      .. versionadded:: 1.5.0\n",
      "\n",
      "sharex : bool, default True if ax is None else False\n",
      "    In case ``subplots=True``, share x axis and set some x axis labels\n",
      "    to invisible; defaults to True if ax is None otherwise False if\n",
      "    an ax is passed in; Be aware, that passing in both an ax and\n",
      "    ``sharex=True`` will alter all x axis labels for all axis in a figure.\n",
      "sharey : bool, default False\n",
      "    In case ``subplots=True``, share y axis and set some y axis labels to invisible.\n",
      "layout : tuple, optional\n",
      "    (rows, columns) for the layout of subplots.\n",
      "figsize : a tuple (width, height) in inches\n",
      "    Size of a figure object.\n",
      "use_index : bool, default True\n",
      "    Use index as ticks for x axis.\n",
      "title : str or list\n",
      "    Title to use for the plot. If a string is passed, print the string\n",
      "    at the top of the figure. If a list is passed and `subplots` is\n",
      "    True, print each item in the list above the corresponding subplot.\n",
      "grid : bool, default None (matlab style default)\n",
      "    Axis grid lines.\n",
      "legend : bool or {'reverse'}\n",
      "    Place legend on axis subplots.\n",
      "style : list or dict\n",
      "    The matplotlib line style per column.\n",
      "logx : bool or 'sym', default False\n",
      "    Use log scaling or symlog scaling on x axis.\n",
      "\n",
      "logy : bool or 'sym' default False\n",
      "    Use log scaling or symlog scaling on y axis.\n",
      "\n",
      "loglog : bool or 'sym', default False\n",
      "    Use log scaling or symlog scaling on both x and y axes.\n",
      "\n",
      "xticks : sequence\n",
      "    Values to use for the xticks.\n",
      "yticks : sequence\n",
      "    Values to use for the yticks.\n",
      "xlim : 2-tuple/list\n",
      "    Set the x limits of the current axes.\n",
      "ylim : 2-tuple/list\n",
      "    Set the y limits of the current axes.\n",
      "xlabel : label, optional\n",
      "    Name to use for the xlabel on x-axis. Default uses index name as xlabel, or the\n",
      "    x-column name for planar plots.\n",
      "\n",
      "    .. versionchanged:: 2.0.0\n",
      "\n",
      "        Now applicable to histograms.\n",
      "\n",
      "ylabel : label, optional\n",
      "    Name to use for the ylabel on y-axis. Default will show no ylabel, or the\n",
      "    y-column name for planar plots.\n",
      "\n",
      "    .. versionchanged:: 2.0.0\n",
      "\n",
      "        Now applicable to histograms.\n",
      "\n",
      "rot : float, default None\n",
      "    Rotation for ticks (xticks for vertical, yticks for horizontal\n",
      "    plots).\n",
      "fontsize : float, default None\n",
      "    Font size for xticks and yticks.\n",
      "colormap : str or matplotlib colormap object, default None\n",
      "    Colormap to select colors from. If string, load colormap with that\n",
      "    name from matplotlib.\n",
      "colorbar : bool, optional\n",
      "    If True, plot colorbar (only relevant for 'scatter' and 'hexbin'\n",
      "    plots).\n",
      "position : float\n",
      "    Specify relative alignments for bar plot layout.\n",
      "    From 0 (left/bottom-end) to 1 (right/top-end). Default is 0.5\n",
      "    (center).\n",
      "table : bool, Series or DataFrame, default False\n",
      "    If True, draw a table using the data in the DataFrame and the data\n",
      "    will be transposed to meet matplotlib's default layout.\n",
      "    If a Series or DataFrame is passed, use passed data to draw a\n",
      "    table.\n",
      "yerr : DataFrame, Series, array-like, dict and str\n",
      "    See :ref:`Plotting with Error Bars <visualization.errorbars>` for\n",
      "    detail.\n",
      "xerr : DataFrame, Series, array-like, dict and str\n",
      "    Equivalent to yerr.\n",
      "stacked : bool, default False in line and bar plots, and True in area plot\n",
      "    If True, create stacked plot.\n",
      "secondary_y : bool or sequence, default False\n",
      "    Whether to plot on the secondary y-axis if a list/tuple, which\n",
      "    columns to plot on secondary y-axis.\n",
      "mark_right : bool, default True\n",
      "    When using a secondary_y axis, automatically mark the column\n",
      "    labels with \"(right)\" in the legend.\n",
      "include_bool : bool, default is False\n",
      "    If True, boolean values can be plotted.\n",
      "backend : str, default None\n",
      "    Backend to use instead of the backend specified in the option\n",
      "    ``plotting.backend``. For instance, 'matplotlib'. Alternatively, to\n",
      "    specify the ``plotting.backend`` for the whole session, set\n",
      "    ``pd.options.plotting.backend``.\n",
      "**kwargs\n",
      "    Options to pass to matplotlib plotting method.\n",
      "\n",
      "Returns\n",
      "-------\n",
      ":class:`matplotlib.axes.Axes` or numpy.ndarray of them\n",
      "    If the backend is not the default matplotlib one, the return value\n",
      "    will be the object returned by the backend.\n",
      "\n",
      "Notes\n",
      "-----\n",
      "- See matplotlib documentation online for more on this subject\n",
      "- If `kind` = 'bar' or 'barh', you can specify relative alignments\n",
      "  for bar plot layout by `position` keyword.\n",
      "  From 0 (left/bottom-end) to 1 (right/top-end). Default is 0.5\n",
      "  (center)\n",
      "\n",
      "Examples\n",
      "--------\n",
      "For Series:\n",
      "\n",
      ".. plot::\n",
      "    :context: close-figs\n",
      "\n",
      "    >>> ser = pd.Series([1, 2, 3, 3])\n",
      "    >>> plot = ser.plot(kind='hist', title=\"My plot\")\n",
      "\n",
      "For DataFrame:\n",
      "\n",
      ".. plot::\n",
      "    :context: close-figs\n",
      "\n",
      "    >>> df = pd.DataFrame({'length': [1.5, 0.5, 1.2, 0.9, 3],\n",
      "    ...                   'width': [0.7, 0.2, 0.15, 0.2, 1.1]},\n",
      "    ...                   index=['pig', 'rabbit', 'duck', 'chicken', 'horse'])\n",
      "    >>> plot = df.plot(title=\"DataFrame Plot\")\n",
      "\n",
      "For SeriesGroupBy:\n",
      "\n",
      ".. plot::\n",
      "    :context: close-figs\n",
      "\n",
      "    >>> lst = [-1, -2, -3, 1, 2, 3]\n",
      "    >>> ser = pd.Series([1, 2, 2, 4, 6, 6], index=lst)\n",
      "    >>> plot = ser.groupby(lambda x: x > 0).plot(title=\"SeriesGroupBy Plot\")\n",
      "\n",
      "For DataFrameGroupBy:\n",
      "\n",
      ".. plot::\n",
      "    :context: close-figs\n",
      "\n",
      "    >>> df = pd.DataFrame({\"col1\" : [1, 2, 3, 4],\n",
      "    ...                   \"col2\" : [\"A\", \"B\", \"A\", \"B\"]})\n",
      "    >>> plot = df.groupby(\"col2\").plot(kind=\"bar\", title=\"DataFrameGroupBy Plot\")\n",
      "\u001b[0;31mCall docstring:\u001b[0m\n",
      "Make plots of Series or DataFrame.\n",
      "\n",
      "Uses the backend specified by the\n",
      "option ``plotting.backend``. By default, matplotlib is used.\n",
      "\n",
      "Parameters\n",
      "----------\n",
      "data : Series or DataFrame\n",
      "    The object for which the method is called.\n",
      "x : label or position, default None\n",
      "    Only used if data is a DataFrame.\n",
      "y : label, position or list of label, positions, default None\n",
      "    Allows plotting of one column versus another. Only used if data is a\n",
      "    DataFrame.\n",
      "kind : str\n",
      "    The kind of plot to produce:\n",
      "\n",
      "    - 'line' : line plot (default)\n",
      "    - 'bar' : vertical bar plot\n",
      "    - 'barh' : horizontal bar plot\n",
      "    - 'hist' : histogram\n",
      "    - 'box' : boxplot\n",
      "    - 'kde' : Kernel Density Estimation plot\n",
      "    - 'density' : same as 'kde'\n",
      "    - 'area' : area plot\n",
      "    - 'pie' : pie plot\n",
      "    - 'scatter' : scatter plot (DataFrame only)\n",
      "    - 'hexbin' : hexbin plot (DataFrame only)\n",
      "ax : matplotlib axes object, default None\n",
      "    An axes of the current figure.\n",
      "subplots : bool or sequence of iterables, default False\n",
      "    Whether to group columns into subplots:\n",
      "\n",
      "    - ``False`` : No subplots will be used\n",
      "    - ``True`` : Make separate subplots for each column.\n",
      "    - sequence of iterables of column labels: Create a subplot for each\n",
      "      group of columns. For example `[('a', 'c'), ('b', 'd')]` will\n",
      "      create 2 subplots: one with columns 'a' and 'c', and one\n",
      "      with columns 'b' and 'd'. Remaining columns that aren't specified\n",
      "      will be plotted in additional subplots (one per column).\n",
      "\n",
      "      .. versionadded:: 1.5.0\n",
      "\n",
      "sharex : bool, default True if ax is None else False\n",
      "    In case ``subplots=True``, share x axis and set some x axis labels\n",
      "    to invisible; defaults to True if ax is None otherwise False if\n",
      "    an ax is passed in; Be aware, that passing in both an ax and\n",
      "    ``sharex=True`` will alter all x axis labels for all axis in a figure.\n",
      "sharey : bool, default False\n",
      "    In case ``subplots=True``, share y axis and set some y axis labels to invisible.\n",
      "layout : tuple, optional\n",
      "    (rows, columns) for the layout of subplots.\n",
      "figsize : a tuple (width, height) in inches\n",
      "    Size of a figure object.\n",
      "use_index : bool, default True\n",
      "    Use index as ticks for x axis.\n",
      "title : str or list\n",
      "    Title to use for the plot. If a string is passed, print the string\n",
      "    at the top of the figure. If a list is passed and `subplots` is\n",
      "    True, print each item in the list above the corresponding subplot.\n",
      "grid : bool, default None (matlab style default)\n",
      "    Axis grid lines.\n",
      "legend : bool or {'reverse'}\n",
      "    Place legend on axis subplots.\n",
      "style : list or dict\n",
      "    The matplotlib line style per column.\n",
      "logx : bool or 'sym', default False\n",
      "    Use log scaling or symlog scaling on x axis.\n",
      "\n",
      "logy : bool or 'sym' default False\n",
      "    Use log scaling or symlog scaling on y axis.\n",
      "\n",
      "loglog : bool or 'sym', default False\n",
      "    Use log scaling or symlog scaling on both x and y axes.\n",
      "\n",
      "xticks : sequence\n",
      "    Values to use for the xticks.\n",
      "yticks : sequence\n",
      "    Values to use for the yticks.\n",
      "xlim : 2-tuple/list\n",
      "    Set the x limits of the current axes.\n",
      "ylim : 2-tuple/list\n",
      "    Set the y limits of the current axes.\n",
      "xlabel : label, optional\n",
      "    Name to use for the xlabel on x-axis. Default uses index name as xlabel, or the\n",
      "    x-column name for planar plots.\n",
      "\n",
      "    .. versionchanged:: 2.0.0\n",
      "\n",
      "        Now applicable to histograms.\n",
      "\n",
      "ylabel : label, optional\n",
      "    Name to use for the ylabel on y-axis. Default will show no ylabel, or the\n",
      "    y-column name for planar plots.\n",
      "\n",
      "    .. versionchanged:: 2.0.0\n",
      "\n",
      "        Now applicable to histograms.\n",
      "\n",
      "rot : float, default None\n",
      "    Rotation for ticks (xticks for vertical, yticks for horizontal\n",
      "    plots).\n",
      "fontsize : float, default None\n",
      "    Font size for xticks and yticks.\n",
      "colormap : str or matplotlib colormap object, default None\n",
      "    Colormap to select colors from. If string, load colormap with that\n",
      "    name from matplotlib.\n",
      "colorbar : bool, optional\n",
      "    If True, plot colorbar (only relevant for 'scatter' and 'hexbin'\n",
      "    plots).\n",
      "position : float\n",
      "    Specify relative alignments for bar plot layout.\n",
      "    From 0 (left/bottom-end) to 1 (right/top-end). Default is 0.5\n",
      "    (center).\n",
      "table : bool, Series or DataFrame, default False\n",
      "    If True, draw a table using the data in the DataFrame and the data\n",
      "    will be transposed to meet matplotlib's default layout.\n",
      "    If a Series or DataFrame is passed, use passed data to draw a\n",
      "    table.\n",
      "yerr : DataFrame, Series, array-like, dict and str\n",
      "    See :ref:`Plotting with Error Bars <visualization.errorbars>` for\n",
      "    detail.\n",
      "xerr : DataFrame, Series, array-like, dict and str\n",
      "    Equivalent to yerr.\n",
      "stacked : bool, default False in line and bar plots, and True in area plot\n",
      "    If True, create stacked plot.\n",
      "secondary_y : bool or sequence, default False\n",
      "    Whether to plot on the secondary y-axis if a list/tuple, which\n",
      "    columns to plot on secondary y-axis.\n",
      "mark_right : bool, default True\n",
      "    When using a secondary_y axis, automatically mark the column\n",
      "    labels with \"(right)\" in the legend.\n",
      "include_bool : bool, default is False\n",
      "    If True, boolean values can be plotted.\n",
      "backend : str, default None\n",
      "    Backend to use instead of the backend specified in the option\n",
      "    ``plotting.backend``. For instance, 'matplotlib'. Alternatively, to\n",
      "    specify the ``plotting.backend`` for the whole session, set\n",
      "    ``pd.options.plotting.backend``.\n",
      "**kwargs\n",
      "    Options to pass to matplotlib plotting method.\n",
      "\n",
      "Returns\n",
      "-------\n",
      ":class:`matplotlib.axes.Axes` or numpy.ndarray of them\n",
      "    If the backend is not the default matplotlib one, the return value\n",
      "    will be the object returned by the backend.\n",
      "\n",
      "Notes\n",
      "-----\n",
      "- See matplotlib documentation online for more on this subject\n",
      "- If `kind` = 'bar' or 'barh', you can specify relative alignments\n",
      "  for bar plot layout by `position` keyword.\n",
      "  From 0 (left/bottom-end) to 1 (right/top-end). Default is 0.5\n",
      "  (center)\n",
      "\n",
      "Examples\n",
      "--------\n",
      "For Series:\n",
      "\n",
      ".. plot::\n",
      "    :context: close-figs\n",
      "\n",
      "    >>> ser = pd.Series([1, 2, 3, 3])\n",
      "    >>> plot = ser.plot(kind='hist', title=\"My plot\")\n",
      "\n",
      "For DataFrame:\n",
      "\n",
      ".. plot::\n",
      "    :context: close-figs\n",
      "\n",
      "    >>> df = pd.DataFrame({'length': [1.5, 0.5, 1.2, 0.9, 3],\n",
      "    ...                   'width': [0.7, 0.2, 0.15, 0.2, 1.1]},\n",
      "    ...                   index=['pig', 'rabbit', 'duck', 'chicken', 'horse'])\n",
      "    >>> plot = df.plot(title=\"DataFrame Plot\")\n",
      "\n",
      "For SeriesGroupBy:\n",
      "\n",
      ".. plot::\n",
      "    :context: close-figs\n",
      "\n",
      "    >>> lst = [-1, -2, -3, 1, 2, 3]\n",
      "    >>> ser = pd.Series([1, 2, 2, 4, 6, 6], index=lst)\n",
      "    >>> plot = ser.groupby(lambda x: x > 0).plot(title=\"SeriesGroupBy Plot\")\n",
      "\n",
      "For DataFrameGroupBy:\n",
      "\n",
      ".. plot::\n",
      "    :context: close-figs\n",
      "\n",
      "    >>> df = pd.DataFrame({\"col1\" : [1, 2, 3, 4],\n",
      "    ...                   \"col2\" : [\"A\", \"B\", \"A\", \"B\"]})\n",
      "    >>> plot = df.groupby(\"col2\").plot(kind=\"bar\", title=\"DataFrameGroupBy Plot\")"
     ]
    }
   ],
   "source": [
    "?metrics.plot"
   ]
  },
  {
   "cell_type": "code",
   "execution_count": 57,
   "metadata": {},
   "outputs": [
    {
     "data": {
      "text/plain": [
       "Text(0.5, 1.0, 'Metrics vs Discriminant Threshold')"
      ]
     },
     "execution_count": 57,
     "metadata": {},
     "output_type": "execute_result"
    },
    {
     "data": {
      "image/png": "[encoded data removed]",
      "text/plain": [
       "<Figure size 640x480 with 1 Axes>"
      ]
     },
     "metadata": {},
     "output_type": "display_data"
    }
   ],
   "source": [
    "metrics.plot()\n",
    "plt.xlabel('Probability Threshold')\n",
    "plt.ylabel('Metrics')\n",
    "plt.title('Metrics vs Discriminant Threshold')"
   ]
  },
  {
   "cell_type": "code",
   "execution_count": null,
   "metadata": {},
   "outputs": [],
   "source": []
  },
  {
   "cell_type": "code",
   "execution_count": null,
   "metadata": {},
   "outputs": [],
   "source": []
  },
  {
   "cell_type": "code",
   "execution_count": null,
   "metadata": {},
   "outputs": [],
   "source": []
  },
  {
   "cell_type": "code",
   "execution_count": null,
   "metadata": {},
   "outputs": [],
   "source": []
  },
  {
   "cell_type": "code",
   "execution_count": null,
   "metadata": {},
   "outputs": [],
   "source": []
  },
  {
   "cell_type": "code",
   "execution_count": null,
   "metadata": {},
   "outputs": [],
   "source": []
  },
  {
   "cell_type": "code",
   "execution_count": null,
   "metadata": {},
   "outputs": [],
   "source": []
  },
  {
   "cell_type": "code",
   "execution_count": null,
   "metadata": {},
   "outputs": [],
   "source": []
  }
 ],
 "metadata": {
  "kernelspec": {
   "display_name": ".venv",
   "language": "python",
   "name": "python3"
  },
  "language_info": {
   "codemirror_mode": {
    "name": "ipython",
    "version": 3
   },
   "file_extension": ".py",
   "mimetype": "text/x-python",
   "name": "python",
   "nbconvert_exporter": "python",
   "pygments_lexer": "ipython3",
   "version": "3.10.9"
  }
 },
 "nbformat": 4,
 "nbformat_minor": 2
}
